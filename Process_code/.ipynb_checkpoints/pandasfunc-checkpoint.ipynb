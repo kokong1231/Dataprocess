{
 "cells": [
  {
   "cell_type": "code",
   "execution_count": 2,
   "metadata": {},
   "outputs": [],
   "source": [
    "import pandas as pd"
   ]
  },
  {
   "cell_type": "code",
   "execution_count": 11,
   "metadata": {},
   "outputs": [],
   "source": [
    "df = pd.DataFrame([['A',20,'010-0000-0000','M'],\n",
    "                   ['b',23,'010-1234-0000','F'],\n",
    "                   ['c',34,'010-5432-0000','F'],\n",
    "                   ['d',24,'010-6532-0000','M'],\n",
    "                   ['e',41,'010-4632-0000','M'],\n",
    "                   ['f',23,'010-2341-0000','F'],\n",
    "                   ['g',61,'010-1634-0000','M'],\n",
    "                   ['h',53,'010-8615-0000','F'],\n",
    "                   ['w',43,'010-7345-0000','M'],\n",
    "                   ['e',25,'010-5486-0000','F'],\n",
    "                   ['q',63,'010-9765-0000','M'],\n",
    "                   ['z',65,'010-0678-0000','M'],\n",
    "                   ['x',64,'010-4856-0000','F'],\n",
    "                   ['l',53,'010-3745-0000','M']],\n",
    "                 columns=['이름','나이','전화번호','성별'])"
   ]
  },
  {
   "cell_type": "code",
   "execution_count": 14,
   "metadata": {},
   "outputs": [
    {
     "name": "stdout",
     "output_type": "stream",
     "text": [
      "<class 'pandas.core.frame.DataFrame'>\n",
      "RangeIndex: 14 entries, 0 to 13\n",
      "Data columns (total 4 columns):\n",
      " #   Column  Non-Null Count  Dtype \n",
      "---  ------  --------------  ----- \n",
      " 0   이름      14 non-null     object\n",
      " 1   나이      14 non-null     int64 \n",
      " 2   전화번호    14 non-null     object\n",
      " 3   성별      14 non-null     object\n",
      "dtypes: int64(1), object(3)\n",
      "memory usage: 576.0+ bytes\n"
     ]
    },
    {
     "data": {
      "text/plain": [
       "이름      0\n",
       "나이      0\n",
       "전화번호    0\n",
       "성별      0\n",
       "dtype: int64"
      ]
     },
     "execution_count": 14,
     "metadata": {},
     "output_type": "execute_result"
    }
   ],
   "source": [
    "df.info()"
   ]
  },
  {
   "cell_type": "code",
   "execution_count": 15,
   "metadata": {},
   "outputs": [
    {
     "data": {
      "text/plain": [
       "이름      0\n",
       "나이      0\n",
       "전화번호    0\n",
       "성별      0\n",
       "dtype: int64"
      ]
     },
     "execution_count": 15,
     "metadata": {},
     "output_type": "execute_result"
    }
   ],
   "source": [
    "df.isnull().sum()"
   ]
  },
  {
   "cell_type": "code",
   "execution_count": 16,
   "metadata": {},
   "outputs": [
    {
     "data": {
      "text/plain": [
       "42.285714285714285"
      ]
     },
     "execution_count": 16,
     "metadata": {},
     "output_type": "execute_result"
    }
   ],
   "source": [
    "#평균\n",
    "df['나이'].mean()"
   ]
  },
  {
   "cell_type": "code",
   "execution_count": 17,
   "metadata": {},
   "outputs": [
    {
     "data": {
      "text/plain": [
       "42.0"
      ]
     },
     "execution_count": 17,
     "metadata": {},
     "output_type": "execute_result"
    }
   ],
   "source": [
    "df['나이'].median()"
   ]
  },
  {
   "cell_type": "code",
   "execution_count": 19,
   "metadata": {},
   "outputs": [
    {
     "data": {
      "text/plain": [
       "303.1428571428572"
      ]
     },
     "execution_count": 19,
     "metadata": {},
     "output_type": "execute_result"
    }
   ],
   "source": [
    "#분산\n",
    "df['나이'].var()"
   ]
  },
  {
   "cell_type": "code",
   "execution_count": 26,
   "metadata": {},
   "outputs": [
    {
     "data": {
      "text/plain": [
       "e    2\n",
       "g    1\n",
       "l    1\n",
       "h    1\n",
       "w    1\n",
       "x    1\n",
       "f    1\n",
       "z    1\n",
       "A    1\n",
       "b    1\n",
       "q    1\n",
       "c    1\n",
       "d    1\n",
       "Name: 이름, dtype: int64"
      ]
     },
     "execution_count": 26,
     "metadata": {},
     "output_type": "execute_result"
    }
   ],
   "source": [
    "df['이름'].value_counts()"
   ]
  },
  {
   "cell_type": "code",
   "execution_count": 27,
   "metadata": {},
   "outputs": [
    {
     "data": {
      "text/html": [
       "<div>\n",
       "<style scoped>\n",
       "    .dataframe tbody tr th:only-of-type {\n",
       "        vertical-align: middle;\n",
       "    }\n",
       "\n",
       "    .dataframe tbody tr th {\n",
       "        vertical-align: top;\n",
       "    }\n",
       "\n",
       "    .dataframe thead th {\n",
       "        text-align: right;\n",
       "    }\n",
       "</style>\n",
       "<table border=\"1\" class=\"dataframe\">\n",
       "  <thead>\n",
       "    <tr style=\"text-align: right;\">\n",
       "      <th></th>\n",
       "      <th>이름</th>\n",
       "      <th>나이</th>\n",
       "      <th>전화번호</th>\n",
       "      <th>성별</th>\n",
       "    </tr>\n",
       "  </thead>\n",
       "  <tbody>\n",
       "    <tr>\n",
       "      <th>2</th>\n",
       "      <td>c</td>\n",
       "      <td>34</td>\n",
       "      <td>010-5432-0000</td>\n",
       "      <td>F</td>\n",
       "    </tr>\n",
       "  </tbody>\n",
       "</table>\n",
       "</div>"
      ],
      "text/plain": [
       "  이름  나이           전화번호 성별\n",
       "2  c  34  010-5432-0000  F"
      ]
     },
     "execution_count": 27,
     "metadata": {},
     "output_type": "execute_result"
    }
   ],
   "source": [
    "df[df['이름'] == 'c']"
   ]
  },
  {
   "cell_type": "code",
   "execution_count": 31,
   "metadata": {},
   "outputs": [
    {
     "data": {
      "text/plain": [
       "array(['A', 'b', 'c', 'd', 'e', 'f', 'g', 'h', 'w', 'q', 'z', 'x', 'l'],\n",
       "      dtype=object)"
      ]
     },
     "execution_count": 31,
     "metadata": {},
     "output_type": "execute_result"
    }
   ],
   "source": [
    "df['이름'].unique()"
   ]
  },
  {
   "cell_type": "code",
   "execution_count": 32,
   "metadata": {},
   "outputs": [
    {
     "data": {
      "text/plain": [
       "33.0"
      ]
     },
     "execution_count": 32,
     "metadata": {},
     "output_type": "execute_result"
    }
   ],
   "source": [
    "df[df['이름'] == 'e']['나이'].mean()"
   ]
  },
  {
   "cell_type": "code",
   "execution_count": 34,
   "metadata": {},
   "outputs": [
    {
     "data": {
      "text/plain": [
       "이름  성별\n",
       "A   M     20\n",
       "b   F     23\n",
       "c   F     34\n",
       "d   M     24\n",
       "e   F     25\n",
       "    M     41\n",
       "f   F     23\n",
       "g   M     61\n",
       "h   F     53\n",
       "l   M     53\n",
       "q   M     63\n",
       "w   M     43\n",
       "x   F     64\n",
       "z   M     65\n",
       "Name: 나이, dtype: int64"
      ]
     },
     "execution_count": 34,
     "metadata": {},
     "output_type": "execute_result"
    }
   ],
   "source": [
    "df.groupby(['이름', '성별'])['나이'].mean()"
   ]
  },
  {
   "cell_type": "code",
   "execution_count": 35,
   "metadata": {},
   "outputs": [
    {
     "data": {
      "text/plain": [
       "이름  성별\n",
       "A   M     1\n",
       "b   F     1\n",
       "c   F     1\n",
       "d   M     1\n",
       "e   F     1\n",
       "    M     1\n",
       "f   F     1\n",
       "g   M     1\n",
       "h   F     1\n",
       "l   M     1\n",
       "q   M     1\n",
       "w   M     1\n",
       "x   F     1\n",
       "z   M     1\n",
       "Name: 나이, dtype: int64"
      ]
     },
     "execution_count": 35,
     "metadata": {},
     "output_type": "execute_result"
    }
   ],
   "source": [
    "# 비식별에서는 k 익명성을 구할 수 있는데 이 값이 k 이다.\n",
    "df.groupby(['이름', '성별'])['나이'].count()"
   ]
  },
  {
   "cell_type": "markdown",
   "metadata": {},
   "source": [
    "# 자유롭게 구사할 수 있어야 한다."
   ]
  }
 ],
 "metadata": {
  "kernelspec": {
   "display_name": "Python 3",
   "language": "python",
   "name": "python3"
  },
  "language_info": {
   "codemirror_mode": {
    "name": "ipython",
    "version": 3
   },
   "file_extension": ".py",
   "mimetype": "text/x-python",
   "name": "python",
   "nbconvert_exporter": "python",
   "pygments_lexer": "ipython3",
   "version": "3.8.5"
  }
 },
 "nbformat": 4,
 "nbformat_minor": 4
}
